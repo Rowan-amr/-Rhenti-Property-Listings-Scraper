{
 "cells": [
  {
   "cell_type": "markdown",
   "id": "ae7ef42c-d4fa-4296-b077-e5b2dcdd2ad3",
   "metadata": {},
   "source": [
    "# Importing Modules "
   ]
  },
  {
   "cell_type": "code",
   "execution_count": 74,
   "id": "0a92661b-31bf-4cbf-91fd-dff8c19da3f8",
   "metadata": {},
   "outputs": [],
   "source": [
    "import requests\n",
    "import csv\n",
    "import time\n",
    "from selenium import webdriver\n",
    "from datetime import datetime\n",
    "import pandas as pd"
   ]
  },
  {
   "cell_type": "code",
   "execution_count": 90,
   "id": "e380b22f-1fb2-4fc9-9366-5ed813ed20c2",
   "metadata": {},
   "outputs": [],
   "source": [
    "# API endpoint and headers\n",
    "BASE_URL = \"https://api.rhenti.com/properties\"\n",
    "LISTING_URL_TEMPLATE = \"https://mynd.rhenti.com/#/property/{}\"\n",
    "\n",
    "\n",
    "HEADERS = {\n",
    "         \"User-Agent\": \"Mozilla/5.0\"\n",
    "}\n",
    "#Params (can be adjusted)\n",
    "PARAMS = {\n",
    "    \n",
    "    'bottomLeftCorner': [\n",
    "        '-84.79722312265623',\n",
    "        '33.481670043402914',\n",
    "    ],\n",
    "    'page': '1',\n",
    "    'topRightCorner': [\n",
    "        '-84.19709494882811',\n",
    "        '34.01548998578539',\n",
    "    ],\n",
    "    'whitelabel': '65b2823e907',\n",
    "    'perPage':'1000'\n",
    "}\n",
    "   \n",
    "\n"
   ]
  },
  {
   "cell_type": "code",
   "execution_count": 92,
   "id": "1b78a202-68a0-4714-9dd4-6350341e9f5c",
   "metadata": {},
   "outputs": [
    {
     "name": "stdout",
     "output_type": "stream",
     "text": [
      "Scraping page 1...\n",
      "Scraping page 2...\n",
      "No more listings found.\n"
     ]
    }
   ],
   "source": [
    "all_listings = []\n",
    "page = 1\n",
    "\n",
    "while True:\n",
    "    print(f\"Scraping page {page}...\")\n",
    "    PARAMS[\"page\"] = str(page)  \n",
    "\n",
    "    try:\n",
    "        response = requests.get(BASE_URL, headers=HEADERS, params=PARAMS)\n",
    "    except requests.exceptions.RequestException as e:\n",
    "        print(f\"Request failed: {e}\")\n",
    "        break\n",
    "\n",
    "    if response.status_code != 200:\n",
    "        print(f\"Error {response.status_code} — stopping.\")\n",
    "        break\n",
    "\n",
    "    data = response.json()\n",
    "    listings = data\n",
    "\n",
    "    if not listings:\n",
    "        print(\"No more listings found.\")\n",
    "        break\n",
    "\n",
    "    for listing in listings:\n",
    "        listing_id = listing.get(\"_id\")\n",
    "        all_listings.append({\n",
    "            \"URL\": LISTING_URL_TEMPLATE.format(listing_id) if listing_id else None,\n",
    "            \"Price\": listing.get(\"price\"),\n",
    "            \"Address\": listing.get(\"full_address\"),\n",
    "            \"Bedrooms\": listing.get(\"bedrooms\"),\n",
    "            \"Bathrooms\": listing.get(\"bathrooms\"),\n",
    "            \"Virtual_tour\": listing.get(\"virtual_tour\"),\n",
    "        })\n",
    "\n",
    "    page += 1\n",
    "    time.sleep(1)\n",
    "\n",
    "\n"
   ]
  },
  {
   "cell_type": "code",
   "execution_count": 94,
   "id": "8c5a2902-f347-4837-b49b-99a0fe878ae8",
   "metadata": {},
   "outputs": [
    {
     "name": "stdout",
     "output_type": "stream",
     "text": [
      "Saved 59 listings to rhenti_listings_2025-06-13.csv\n",
      "✅ Also saved data to rhenti_2025-06-13.xlsx\n"
     ]
    }
   ],
   "source": [
    "# Output to CSV and Xlsx\n",
    "if all_listings:\n",
    "    date_str = datetime.now().strftime(\"%Y-%m-%d\")\n",
    "    filename = f\"rhenti_listings_{date_str}.csv\"\n",
    "    with open(filename, mode=\"w\", newline=\"\", encoding=\"utf-8\") as f:\n",
    "        writer = csv.DictWriter(f, fieldnames=all_listings[0].keys())\n",
    "        writer.writeheader()\n",
    "        writer.writerows(all_listings)\n",
    "    print(f\"Saved {len(all_listings)} listings to {filename}\")\n",
    "    filename = f\"rhenti_{date_str}.xlsx\"\n",
    "\n",
    "    # Save to XLSX\n",
    "    xlsx_filename = f\"rhenti_{date_str}.xlsx\"\n",
    "    df = pd.DataFrame(all_listings)\n",
    "    df.to_excel(xlsx_filename, index=False)\n",
    "    print(f\"✅ Also saved data to {xlsx_filename}\")\n",
    "else:\n",
    "    print(\"No listings collected.\")"
   ]
  },
  {
   "cell_type": "code",
   "execution_count": null,
   "id": "60d121e6-2b20-4dbc-8eb1-13a51fe72e87",
   "metadata": {},
   "outputs": [],
   "source": []
  }
 ],
 "metadata": {
  "kernelspec": {
   "display_name": "Python 3 (ipykernel)",
   "language": "python",
   "name": "python3"
  },
  "language_info": {
   "codemirror_mode": {
    "name": "ipython",
    "version": 3
   },
   "file_extension": ".py",
   "mimetype": "text/x-python",
   "name": "python",
   "nbconvert_exporter": "python",
   "pygments_lexer": "ipython3",
   "version": "3.12.4"
  }
 },
 "nbformat": 4,
 "nbformat_minor": 5
}
